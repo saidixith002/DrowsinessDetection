{
 "cells": [
  {
   "cell_type": "markdown",
   "id": "238deb05",
   "metadata": {},
   "source": [
    "# Drowsiness Prediction    "
   ]
  },
  {
   "cell_type": "code",
   "execution_count": 1,
   "id": "ae777527",
   "metadata": {},
   "outputs": [],
   "source": [
    "from scipy.spatial import distance\n",
    "from imutils import face_utils\n",
    "import numpy as np\n",
    "import winsound\n",
    "import imutils\n",
    "import dlib\n",
    "import cv2\n",
    "import time"
   ]
  },
  {
   "cell_type": "code",
   "execution_count": 2,
   "id": "2c8539e8",
   "metadata": {},
   "outputs": [],
   "source": [
    "def loadModel():\n",
    "    from tensorflow.keras.models import load_model\n",
    "    model = load_model(\"model\\CNN_Model_For_Drowsyness_Detection.h5\")\n",
    "    return model"
   ]
  },
  {
   "cell_type": "code",
   "execution_count": 3,
   "id": "a08991de",
   "metadata": {},
   "outputs": [],
   "source": [
    "def eye_aspect_ratio(eye):\n",
    "    A = distance.euclidean(eye[1], eye[5])\n",
    "    B = distance.euclidean(eye[2], eye[4])\n",
    "    C = distance.euclidean(eye[0], eye[3])\n",
    "    ear = (A + B) / (2.0 * C)\n",
    "    return ear"
   ]
  },
  {
   "cell_type": "code",
   "execution_count": 4,
   "id": "b8ecd5ac",
   "metadata": {},
   "outputs": [],
   "source": [
    "def init():\n",
    "    \n",
    "    model = loadModel()\n",
    "    \n",
    "    ## Face coordinates from dat file \n",
    "    detect = dlib.get_frontal_face_detector()\n",
    "    predict = dlib.shape_predictor(\"ShapePredictor\\shape_predictor_68_face_landmarks.dat\")# Dat file is the crux of the code\n",
    "    \n",
    "    return model , detect , predict\n",
    "    "
   ]
  },
  {
   "cell_type": "code",
   "execution_count": 5,
   "id": "45233566",
   "metadata": {},
   "outputs": [],
   "source": [
    "def endCameraFeed(cap):\n",
    "    cv2.destroyAllWindows()\n",
    "    cap.release()\n",
    "    #print(released)\n",
    "    "
   ]
  },
  {
   "cell_type": "code",
   "execution_count": 6,
   "id": "279a5bc1",
   "metadata": {},
   "outputs": [],
   "source": [
    "def main():\n",
    "    \n",
    "    cap=cv2.VideoCapture(0)\n",
    "    flag=0\n",
    "    playingAlarm = time.time()\n",
    "    \n",
    "    ## initial parameters\n",
    "    thresh_model = 0.50\n",
    "    thresh_EAR = 0.25\n",
    "    frame_check = 10\n",
    "    \n",
    "    ## eye coordinates \n",
    "    (lStart, lEnd) = face_utils.FACIAL_LANDMARKS_68_IDXS[\"left_eye\"]\n",
    "    (rStart, rEnd) = face_utils.FACIAL_LANDMARKS_68_IDXS[\"right_eye\"]\n",
    "    \n",
    "    ## intializing \n",
    "    model , detect , predict = init()\n",
    "    \n",
    "    \n",
    "    ## main loop\n",
    "    while True:\n",
    "        ret, frame=cap.read()\n",
    "        frame = imutils.resize(frame, width=600)\n",
    "        gray = cv2.cvtColor(frame, cv2.COLOR_BGR2GRAY)\n",
    "        subjects = detect(gray, 0)\n",
    "        for subject in subjects:\n",
    "            shape = predict(gray, subject)\n",
    "            shape = face_utils.shape_to_np(shape)#converting to NumPy Array\n",
    "\n",
    "\n",
    "        ## getting the left Eye Image from the Photo\n",
    "            (x1,y1) , (x2,y2) = (shape[43][0] , shape[44][1] ), (shape[46][0] , shape[47][1]) \n",
    "            leftEye_Image = cv2.resize(frame[y1-15:y2+15 , x1-15:x2+15] , (86,86))\n",
    "            leftEye_Image = np.reshape(leftEye_Image, (1,86,86,3))\n",
    "            #print(leftEye_Image)\n",
    "\n",
    "        ## getting the right Eye Image from the Photo\n",
    "            (x1,y1) , (x2,y2) = (shape[37][0] , shape[38][1] ), (shape[40][0] , shape[41][1]) \n",
    "            rightEye_Image = cv2.resize(frame[y1-15:y2+15 , x1-15:x2+15] , (86,86))\n",
    "            rightEye_Image = np.reshape(rightEye_Image, (1,86,86,3))\n",
    "            #print(leftEye_Image)\n",
    "\n",
    "        ## calculating EAR for both the Eyes:\n",
    "            leftEye = shape[lStart:lEnd]\n",
    "            rightEye = shape[rStart:rEnd]\n",
    "            leftEAR = eye_aspect_ratio(leftEye)\n",
    "            rightEAR = eye_aspect_ratio(rightEye)\n",
    "\n",
    "\n",
    "        ## Model Prediction\n",
    "            leftEye_prediction = model.predict(leftEye_Image)\n",
    "            rightEye_prediction = model.predict(rightEye_Image)\n",
    "\n",
    "\n",
    "            l1 = (leftEAR + rightEAR)/2\n",
    "            l2 = (leftEye_prediction[0][1] + rightEye_prediction[0][1])/2\n",
    "\n",
    "\n",
    "            if l1 < thresh_EAR or l2 <= thresh_model:\n",
    "                flag += 1\n",
    "\n",
    "                if flag >= frame_check:\n",
    "                \n",
    "                    ## winsound.PlaySound(\"alert.wav\", True)\n",
    "                    if(time.time() > playingAlarm+1.7):\n",
    "                        playingAlarm = time.time()\n",
    "                        winsound.PlaySound(\"alert.wav\", True)\n",
    "                \n",
    "                    '''\n",
    "                    cv2.putText(frame, \"****************ALERT!****************\", (10, 30),\n",
    "                        cv2.FONT_HERSHEY_SIMPLEX, 0.7, (0, 0, 255), 2)\n",
    "                    '''\n",
    "                    cv2.putText(frame, \"Drowsiness Detected.... Playing Alarm...!!\", (10,425),\n",
    "                        cv2.FONT_HERSHEY_SIMPLEX, 0.7, (255, 255, 255), 2)\n",
    "                    #print (\"Drowsy\")\n",
    "            else:\n",
    "                flag = 0\n",
    "\n",
    "            # print (\"flag:\",flag)\n",
    "        if len(subjects) == 0:\n",
    "            flag = 0\n",
    "            cv2.putText(frame, \"Face Not Found...!!\", (10,425),\n",
    "                        cv2.FONT_HERSHEY_SIMPLEX, 0.7, (255, 255, 255), 2)\n",
    "\n",
    "\n",
    "        cv2.putText(frame, \"Sleeping Frames : \"+str(flag) , (10, 30),\n",
    "                        cv2.FONT_HERSHEY_SIMPLEX, 0.7, (0, 0, 255), 2)    \n",
    "\n",
    "        cv2.imshow(\"Frame\", frame)\n",
    "\n",
    "        \n",
    "        key = cv2.waitKey(1) & 0xFF\n",
    "        if key == ord(\"q\"):\n",
    "            endCameraFeed(cap)\n",
    "            break\n",
    "\n",
    "    "
   ]
  },
  {
   "cell_type": "code",
   "execution_count": 7,
   "id": "5ff8d132",
   "metadata": {},
   "outputs": [],
   "source": [
    "main()"
   ]
  },
  {
   "cell_type": "code",
   "execution_count": null,
   "id": "067da8b2",
   "metadata": {},
   "outputs": [],
   "source": []
  },
  {
   "cell_type": "code",
   "execution_count": null,
   "id": "3c96b8d3",
   "metadata": {},
   "outputs": [],
   "source": []
  },
  {
   "cell_type": "code",
   "execution_count": null,
   "id": "d2c47a12",
   "metadata": {},
   "outputs": [],
   "source": []
  }
 ],
 "metadata": {
  "kernelspec": {
   "display_name": "Python 3",
   "language": "python",
   "name": "python3"
  },
  "language_info": {
   "codemirror_mode": {
    "name": "ipython",
    "version": 3
   },
   "file_extension": ".py",
   "mimetype": "text/x-python",
   "name": "python",
   "nbconvert_exporter": "python",
   "pygments_lexer": "ipython3",
   "version": "3.8.8"
  }
 },
 "nbformat": 4,
 "nbformat_minor": 5
}
